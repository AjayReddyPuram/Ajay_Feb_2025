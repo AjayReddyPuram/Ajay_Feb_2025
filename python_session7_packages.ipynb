{
 "cells": [
  {
   "cell_type": "markdown",
   "id": "b0bafbe1-9fa8-4ea1-a9b3-b0cb328e978a",
   "metadata": {},
   "source": [
    "**import**"
   ]
  },
  {
   "cell_type": "code",
   "execution_count": 2,
   "id": "1799bcd7-55e5-48fd-a0b0-98a565b011f4",
   "metadata": {},
   "outputs": [],
   "source": [
    "#import <package name>\n"
   ]
  },
  {
   "cell_type": "code",
   "execution_count": 3,
   "id": "79ffda99-c957-4bc4-bd1e-6b6bf3d2d48e",
   "metadata": {},
   "outputs": [],
   "source": [
    "# package name : math\n",
    "import math"
   ]
  },
  {
   "cell_type": "code",
   "execution_count": 4,
   "id": "efe94c33-52da-43fb-a69c-021cacb3fd64",
   "metadata": {},
   "outputs": [],
   "source": [
    "import keyword"
   ]
  },
  {
   "cell_type": "code",
   "execution_count": 5,
   "id": "a5b0a041-ede1-4d2d-96f0-bd532bbaca7a",
   "metadata": {},
   "outputs": [],
   "source": [
    "import string"
   ]
  },
  {
   "cell_type": "code",
   "execution_count": 6,
   "id": "0cfad25b-3afc-4831-98f9-f5a680412e00",
   "metadata": {},
   "outputs": [],
   "source": [
    "import time"
   ]
  },
  {
   "cell_type": "code",
   "execution_count": 7,
   "id": "0653b172-bc88-466b-8075-7800ed11a532",
   "metadata": {},
   "outputs": [
    {
     "ename": "ModuleNotFoundError",
     "evalue": "No module named 'cv2'",
     "output_type": "error",
     "traceback": [
      "\u001b[1;31m---------------------------------------------------------------------------\u001b[0m",
      "\u001b[1;31mModuleNotFoundError\u001b[0m                       Traceback (most recent call last)",
      "Cell \u001b[1;32mIn[7], line 2\u001b[0m\n\u001b[0;32m      1\u001b[0m \u001b[38;5;66;03m# package name :cv2\u001b[39;00m\n\u001b[1;32m----> 2\u001b[0m \u001b[38;5;28;01mimport\u001b[39;00m \u001b[38;5;21;01mcv2\u001b[39;00m\n",
      "\u001b[1;31mModuleNotFoundError\u001b[0m: No module named 'cv2'"
     ]
    }
   ],
   "source": [
    "# package name :cv2\n",
    "import cv2"
   ]
  },
  {
   "cell_type": "markdown",
   "id": "ec17d4f3-1d59-470b-ae8f-50af62a0e33c",
   "metadata": {},
   "source": [
    "- if package is not  available no module is found"
   ]
  },
  {
   "cell_type": "code",
   "execution_count": 11,
   "id": "778f13b5-bcb5-42c3-a8bd-4c966cffa803",
   "metadata": {},
   "outputs": [
    {
     "data": {
      "text/plain": [
       "<module 'keyword' from 'C:\\\\Users\\\\puram ajay\\\\anaconda3\\\\Lib\\\\keyword.py'>"
      ]
     },
     "execution_count": 11,
     "metadata": {},
     "output_type": "execute_result"
    }
   ],
   "source": [
    "keyword\n"
   ]
  },
  {
   "cell_type": "code",
   "execution_count": 12,
   "id": "ac18f0ad-198b-480f-9f8e-54ea6739a107",
   "metadata": {},
   "outputs": [
    {
     "data": {
      "text/plain": [
       "<module 'string' from 'C:\\\\Users\\\\puram ajay\\\\anaconda3\\\\Lib\\\\string.py'>"
      ]
     },
     "execution_count": 12,
     "metadata": {},
     "output_type": "execute_result"
    }
   ],
   "source": [
    "string"
   ]
  },
  {
   "cell_type": "markdown",
   "id": "e96f9d39-513b-4df6-8512-2775f06b0e61",
   "metadata": {},
   "source": [
    "**dir**"
   ]
  },
  {
   "cell_type": "code",
   "execution_count": 14,
   "id": "763d54de-ae62-4f71-bc52-46ac0f3f5b8a",
   "metadata": {},
   "outputs": [
    {
     "data": {
      "text/plain": [
       "['BPF',\n",
       " 'LOG4',\n",
       " 'NV_MAGICCONST',\n",
       " 'RECIP_BPF',\n",
       " 'Random',\n",
       " 'SG_MAGICCONST',\n",
       " 'SystemRandom',\n",
       " 'TWOPI',\n",
       " '_ONE',\n",
       " '_Sequence',\n",
       " '__all__',\n",
       " '__builtins__',\n",
       " '__cached__',\n",
       " '__doc__',\n",
       " '__file__',\n",
       " '__loader__',\n",
       " '__name__',\n",
       " '__package__',\n",
       " '__spec__',\n",
       " '_accumulate',\n",
       " '_acos',\n",
       " '_bisect',\n",
       " '_ceil',\n",
       " '_cos',\n",
       " '_e',\n",
       " '_exp',\n",
       " '_fabs',\n",
       " '_floor',\n",
       " '_index',\n",
       " '_inst',\n",
       " '_isfinite',\n",
       " '_lgamma',\n",
       " '_log',\n",
       " '_log2',\n",
       " '_os',\n",
       " '_pi',\n",
       " '_random',\n",
       " '_repeat',\n",
       " '_sha512',\n",
       " '_sin',\n",
       " '_sqrt',\n",
       " '_test',\n",
       " '_test_generator',\n",
       " '_urandom',\n",
       " '_warn',\n",
       " 'betavariate',\n",
       " 'binomialvariate',\n",
       " 'choice',\n",
       " 'choices',\n",
       " 'expovariate',\n",
       " 'gammavariate',\n",
       " 'gauss',\n",
       " 'getrandbits',\n",
       " 'getstate',\n",
       " 'lognormvariate',\n",
       " 'normalvariate',\n",
       " 'paretovariate',\n",
       " 'randbytes',\n",
       " 'randint',\n",
       " 'random',\n",
       " 'randrange',\n",
       " 'sample',\n",
       " 'seed',\n",
       " 'setstate',\n",
       " 'shuffle',\n",
       " 'triangular',\n",
       " 'uniform',\n",
       " 'vonmisesvariate',\n",
       " 'weibullvariate']"
      ]
     },
     "execution_count": 14,
     "metadata": {},
     "output_type": "execute_result"
    }
   ],
   "source": [
    "#step1:import package_name\n",
    "#step2:dir(package_name)\n",
    "\n",
    "import random\n",
    "dir(random)"
   ]
  },
  {
   "cell_type": "markdown",
   "id": "970f232f-61d4-485c-a10e-94145a2392af",
   "metadata": {},
   "source": [
    "**help**"
   ]
  },
  {
   "cell_type": "code",
   "execution_count": 15,
   "id": "8228f740-0c3f-4c16-ba90-2b6a271e333d",
   "metadata": {},
   "outputs": [
    {
     "name": "stdout",
     "output_type": "stream",
     "text": [
      "Help on method randint in module random:\n",
      "\n",
      "randint(a, b) method of random.Random instance\n",
      "    Return random integer in range [a, b], including both end points.\n",
      "\n"
     ]
    }
   ],
   "source": [
    "# I want to learn about a method called randint\n",
    "# what it will do\n",
    "#help(<package name>.<method name>)\n",
    "help(random.randint)\n"
   ]
  },
  {
   "cell_type": "code",
   "execution_count": 2,
   "id": "e8c44cc4-ef6e-4b47-8970-4d1984d09b64",
   "metadata": {},
   "outputs": [
    {
     "name": "stdout",
     "output_type": "stream",
     "text": [
      "Help on method randint in module random:\n",
      "\n",
      "randint(a, b) method of random.Random instance\n",
      "    Return random integer in range [a, b], including both end points.\n",
      "\n"
     ]
    }
   ],
   "source": [
    "#step1:import package_name\n",
    "#step2:dir(package_name)\n",
    "#step3:help(<package_name>.<method name>)\n",
    "import random\n",
    "dir(random)\n",
    "help(random.randint)\n"
   ]
  },
  {
   "cell_type": "code",
   "execution_count": 18,
   "id": "ea7ad2f5-e860-45f6-b907-20e9acda5c42",
   "metadata": {},
   "outputs": [
    {
     "data": {
      "text/plain": [
       "15"
      ]
     },
     "execution_count": 18,
     "metadata": {},
     "output_type": "execute_result"
    }
   ],
   "source": [
    "random.randint(10,20)\n",
    "# displays the random number\n"
   ]
  },
  {
   "cell_type": "code",
   "execution_count": 22,
   "id": "9504e24d-a1d7-41d2-96be-4c6a8159ceb1",
   "metadata": {},
   "outputs": [
    {
     "data": {
      "text/plain": [
       "7"
      ]
     },
     "execution_count": 22,
     "metadata": {},
     "output_type": "execute_result"
    }
   ],
   "source": [
    "#step1:import package_name\n",
    "#step2:dir(package_name)\n",
    "#step3:help(<package_name>.<method name>)\n",
    "#step4: apply the operation\n",
    "import random \n",
    "dir(random)#i understood the story\n",
    "random.randint(1,10)\n"
   ]
  },
  {
   "cell_type": "code",
   "execution_count": 20,
   "id": "71e20c9f-4298-4c6c-98fe-176c955a1845",
   "metadata": {},
   "outputs": [
    {
     "name": "stdout",
     "output_type": "stream",
     "text": [
      "Help on built-in function random:\n",
      "\n",
      "random() method of random.Random instance\n",
      "    random() -> x in the interval [0, 1).\n",
      "\n"
     ]
    }
   ],
   "source": [
    "help(random.random)\n"
   ]
  },
  {
   "cell_type": "code",
   "execution_count": 21,
   "id": "14ef7aa0-d3c0-4d3b-b5e9-23faad87e59b",
   "metadata": {},
   "outputs": [
    {
     "data": {
      "text/plain": [
       "0.9024158346128217"
      ]
     },
     "execution_count": 21,
     "metadata": {},
     "output_type": "execute_result"
    }
   ],
   "source": [
    "random.random()\n"
   ]
  },
  {
   "cell_type": "code",
   "execution_count": 23,
   "id": "e2105e91-f445-40e3-a638-f258dbe2cba2",
   "metadata": {},
   "outputs": [
    {
     "name": "stdout",
     "output_type": "stream",
     "text": [
      "Help on method randrange in module random:\n",
      "\n",
      "randrange(start, stop=None, step=1) method of random.Random instance\n",
      "    Choose a random item from range(stop) or range(start, stop[, step]).\n",
      "\n",
      "    Roughly equivalent to ``choice(range(start, stop, step))`` but\n",
      "    supports arbitrarily large ranges and is optimized for common cases.\n",
      "\n"
     ]
    }
   ],
   "source": [
    "import random\n",
    "dir(random)\n",
    "help(random.randrange)"
   ]
  },
  {
   "cell_type": "code",
   "execution_count": 24,
   "id": "c52d88ff-3629-4524-be9b-0424b152feb1",
   "metadata": {},
   "outputs": [
    {
     "name": "stdout",
     "output_type": "stream",
     "text": [
      "Help on method randrange in module random:\n",
      "\n",
      "randrange(start, stop=None, step=1) method of random.Random instance\n",
      "    Choose a random item from range(stop) or range(start, stop[, step]).\n",
      "\n",
      "    Roughly equivalent to ``choice(range(start, stop, step))`` but\n",
      "    supports arbitrarily large ranges and is optimized for common cases.\n",
      "\n"
     ]
    },
    {
     "data": {
      "text/plain": [
       "19"
      ]
     },
     "execution_count": 24,
     "metadata": {},
     "output_type": "execute_result"
    }
   ],
   "source": [
    "help(random.randrange)\n",
    "random.randrange(1,20,2)"
   ]
  },
  {
   "cell_type": "code",
   "execution_count": 29,
   "id": "8dbbdaff-31ef-4c90-80b8-048f08fcd6d7",
   "metadata": {},
   "outputs": [
    {
     "data": {
      "text/plain": [
       "7"
      ]
     },
     "execution_count": 29,
     "metadata": {},
     "output_type": "execute_result"
    }
   ],
   "source": [
    "random.randrange(1,20,6)"
   ]
  },
  {
   "cell_type": "code",
   "execution_count": 6,
   "id": "02d32d0f-578f-4d9d-9b14-c8768c89c333",
   "metadata": {},
   "outputs": [
    {
     "data": {
      "text/plain": [
       "5"
      ]
     },
     "execution_count": 6,
     "metadata": {},
     "output_type": "execute_result"
    }
   ],
   "source": [
    "random.randrange(2,10,3)\n",
    "#start=2 #stop=10 #gap=3\n",
    "#out of 2,5,8 a random number will come"
   ]
  },
  {
   "cell_type": "code",
   "execution_count": 1,
   "id": "437b451d-73bd-49f4-8943-04085e906250",
   "metadata": {},
   "outputs": [
    {
     "data": {
      "text/plain": [
       "(2, 0.094940769253675, 8)"
      ]
     },
     "execution_count": 1,
     "metadata": {},
     "output_type": "execute_result"
    }
   ],
   "source": [
    "import random\n",
    "v1=random.randint(1,10)\n",
    "v2=random.random()\n",
    "v3=random.randrange(2,10,3)\n",
    "v1,v2,v3\n"
   ]
  },
  {
   "cell_type": "code",
   "execution_count": 38,
   "id": "e39246ab-eed8-4732-918f-74432552a827",
   "metadata": {},
   "outputs": [
    {
     "data": {
      "text/plain": [
       "['__doc__',\n",
       " '__loader__',\n",
       " '__name__',\n",
       " '__package__',\n",
       " '__spec__',\n",
       " 'acos',\n",
       " 'acosh',\n",
       " 'asin',\n",
       " 'asinh',\n",
       " 'atan',\n",
       " 'atan2',\n",
       " 'atanh',\n",
       " 'cbrt',\n",
       " 'ceil',\n",
       " 'comb',\n",
       " 'copysign',\n",
       " 'cos',\n",
       " 'cosh',\n",
       " 'degrees',\n",
       " 'dist',\n",
       " 'e',\n",
       " 'erf',\n",
       " 'erfc',\n",
       " 'exp',\n",
       " 'exp2',\n",
       " 'expm1',\n",
       " 'fabs',\n",
       " 'factorial',\n",
       " 'floor',\n",
       " 'fmod',\n",
       " 'frexp',\n",
       " 'fsum',\n",
       " 'gamma',\n",
       " 'gcd',\n",
       " 'hypot',\n",
       " 'inf',\n",
       " 'isclose',\n",
       " 'isfinite',\n",
       " 'isinf',\n",
       " 'isnan',\n",
       " 'isqrt',\n",
       " 'lcm',\n",
       " 'ldexp',\n",
       " 'lgamma',\n",
       " 'log',\n",
       " 'log10',\n",
       " 'log1p',\n",
       " 'log2',\n",
       " 'modf',\n",
       " 'nan',\n",
       " 'nextafter',\n",
       " 'perm',\n",
       " 'pi',\n",
       " 'pow',\n",
       " 'prod',\n",
       " 'radians',\n",
       " 'remainder',\n",
       " 'sin',\n",
       " 'sinh',\n",
       " 'sqrt',\n",
       " 'sumprod',\n",
       " 'tan',\n",
       " 'tanh',\n",
       " 'tau',\n",
       " 'trunc',\n",
       " 'ulp']"
      ]
     },
     "execution_count": 38,
     "metadata": {},
     "output_type": "execute_result"
    }
   ],
   "source": [
    "import math\n",
    "dir(math)"
   ]
  },
  {
   "cell_type": "code",
   "execution_count": 39,
   "id": "6ceb8a00-b181-4d65-b736-d5ec81e3b45c",
   "metadata": {},
   "outputs": [
    {
     "name": "stdout",
     "output_type": "stream",
     "text": [
      "Help on built-in function pow in module math:\n",
      "\n",
      "pow(x, y, /)\n",
      "    Return x**y (x to the power of y).\n",
      "\n"
     ]
    }
   ],
   "source": [
    "#method name:pow\n",
    "help(math.pow)"
   ]
  },
  {
   "cell_type": "code",
   "execution_count": 40,
   "id": "94d66d80-aa5e-4ddf-b412-e78b8baea3b7",
   "metadata": {},
   "outputs": [
    {
     "name": "stdout",
     "output_type": "stream",
     "text": [
      "Help on built-in function pow in module math:\n",
      "\n",
      "pow(x, y, /)\n",
      "    Return x**y (x to the power of y).\n",
      "\n"
     ]
    },
    {
     "data": {
      "text/plain": [
       "9.0"
      ]
     },
     "execution_count": 40,
     "metadata": {},
     "output_type": "execute_result"
    }
   ],
   "source": [
    "help(math.pow)\n",
    "math.pow(3,2)"
   ]
  },
  {
   "cell_type": "code",
   "execution_count": 41,
   "id": "4f3d45d4-172c-4a98-b0f9-f9e23b4fad71",
   "metadata": {},
   "outputs": [
    {
     "data": {
      "text/plain": [
       "2.0"
      ]
     },
     "execution_count": 41,
     "metadata": {},
     "output_type": "execute_result"
    }
   ],
   "source": [
    "math.sqrt(4)"
   ]
  },
  {
   "cell_type": "code",
   "execution_count": 45,
   "id": "929053f2-6c0f-41d2-990f-a8042c0c5462",
   "metadata": {},
   "outputs": [
    {
     "data": {
      "text/plain": [
       "3.141592653589793"
      ]
     },
     "execution_count": 45,
     "metadata": {},
     "output_type": "execute_result"
    }
   ],
   "source": [
    "math.pi"
   ]
  },
  {
   "cell_type": "code",
   "execution_count": 47,
   "id": "0d5ca9ff-ddbf-4a12-b0a1-118224760ec4",
   "metadata": {},
   "outputs": [
    {
     "data": {
      "text/plain": [
       "0.8509035245341184"
      ]
     },
     "execution_count": 47,
     "metadata": {},
     "output_type": "execute_result"
    }
   ],
   "source": [
    "math.sin(45)"
   ]
  },
  {
   "cell_type": "markdown",
   "id": "42602d3f-2d7e-4c7a-a988-6731508a55fd",
   "metadata": {},
   "source": []
  },
  {
   "cell_type": "code",
   "execution_count": 49,
   "id": "05451130-a0dd-4b12-8be4-746bc4d0ef36",
   "metadata": {},
   "outputs": [
    {
     "data": {
      "text/plain": [
       "-0.4480736161291701"
      ]
     },
     "execution_count": 49,
     "metadata": {},
     "output_type": "execute_result"
    }
   ],
   "source": [
    "math.cos(90)"
   ]
  },
  {
   "cell_type": "code",
   "execution_count": 51,
   "id": "9beca12a-db0d-40cf-8416-2e419d50db10",
   "metadata": {},
   "outputs": [
    {
     "data": {
      "text/plain": [
       "2"
      ]
     },
     "execution_count": 51,
     "metadata": {},
     "output_type": "execute_result"
    }
   ],
   "source": [
    "math.gcd(4,2)"
   ]
  },
  {
   "cell_type": "code",
   "execution_count": 52,
   "id": "7f4ad717-a0ff-4601-a8bb-966b5179f69b",
   "metadata": {},
   "outputs": [
    {
     "data": {
      "text/plain": [
       "1"
      ]
     },
     "execution_count": 52,
     "metadata": {},
     "output_type": "execute_result"
    }
   ],
   "source": [
    "math.gcd(5,2)"
   ]
  },
  {
   "cell_type": "code",
   "execution_count": 53,
   "id": "9dbcbd37-ddc2-4815-8cbe-c17bbfe3b399",
   "metadata": {},
   "outputs": [
    {
     "data": {
      "text/plain": [
       "['__all__',\n",
       " '__builtins__',\n",
       " '__cached__',\n",
       " '__doc__',\n",
       " '__file__',\n",
       " '__loader__',\n",
       " '__name__',\n",
       " '__package__',\n",
       " '__spec__',\n",
       " 'iskeyword',\n",
       " 'issoftkeyword',\n",
       " 'kwlist',\n",
       " 'softkwlist']"
      ]
     },
     "execution_count": 53,
     "metadata": {},
     "output_type": "execute_result"
    }
   ],
   "source": [
    "import keyword\n",
    "dir(keyword)"
   ]
  },
  {
   "cell_type": "code",
   "execution_count": 57,
   "id": "dc911216-4746-49ed-99be-17bd49c65cdd",
   "metadata": {},
   "outputs": [
    {
     "data": {
      "text/plain": [
       "['False',\n",
       " 'None',\n",
       " 'True',\n",
       " 'and',\n",
       " 'as',\n",
       " 'assert',\n",
       " 'async',\n",
       " 'await',\n",
       " 'break',\n",
       " 'class',\n",
       " 'continue',\n",
       " 'def',\n",
       " 'del',\n",
       " 'elif',\n",
       " 'else',\n",
       " 'except',\n",
       " 'finally',\n",
       " 'for',\n",
       " 'from',\n",
       " 'global',\n",
       " 'if',\n",
       " 'import',\n",
       " 'in',\n",
       " 'is',\n",
       " 'lambda',\n",
       " 'nonlocal',\n",
       " 'not',\n",
       " 'or',\n",
       " 'pass',\n",
       " 'raise',\n",
       " 'return',\n",
       " 'try',\n",
       " 'while',\n",
       " 'with',\n",
       " 'yield']"
      ]
     },
     "execution_count": 57,
     "metadata": {},
     "output_type": "execute_result"
    }
   ],
   "source": [
    "keyword.kwlist\n"
   ]
  },
  {
   "cell_type": "code",
   "execution_count": 58,
   "id": "3ce3e7ca-1471-4b97-bf6a-a374b20af671",
   "metadata": {},
   "outputs": [
    {
     "data": {
      "text/plain": [
       "35"
      ]
     },
     "execution_count": 58,
     "metadata": {},
     "output_type": "execute_result"
    }
   ],
   "source": [
    "len(keyword.kwlist)"
   ]
  },
  {
   "cell_type": "code",
   "execution_count": 59,
   "id": "f4366be5-0fc4-429d-a39d-c020a9a6a81a",
   "metadata": {},
   "outputs": [
    {
     "data": {
      "text/plain": [
       "['_STRUCT_TM_ITEMS',\n",
       " '__doc__',\n",
       " '__loader__',\n",
       " '__name__',\n",
       " '__package__',\n",
       " '__spec__',\n",
       " 'altzone',\n",
       " 'asctime',\n",
       " 'ctime',\n",
       " 'daylight',\n",
       " 'get_clock_info',\n",
       " 'gmtime',\n",
       " 'localtime',\n",
       " 'mktime',\n",
       " 'monotonic',\n",
       " 'monotonic_ns',\n",
       " 'perf_counter',\n",
       " 'perf_counter_ns',\n",
       " 'process_time',\n",
       " 'process_time_ns',\n",
       " 'sleep',\n",
       " 'strftime',\n",
       " 'strptime',\n",
       " 'struct_time',\n",
       " 'thread_time',\n",
       " 'thread_time_ns',\n",
       " 'time',\n",
       " 'time_ns',\n",
       " 'timezone',\n",
       " 'tzname']"
      ]
     },
     "execution_count": 59,
     "metadata": {},
     "output_type": "execute_result"
    }
   ],
   "source": [
    "import time\n",
    "dir(time)"
   ]
  },
  {
   "cell_type": "code",
   "execution_count": 60,
   "id": "05f8cca0-ca9c-4e29-b3ee-88b9a8b2901c",
   "metadata": {},
   "outputs": [
    {
     "name": "stdout",
     "output_type": "stream",
     "text": [
      "hello\n"
     ]
    }
   ],
   "source": [
    "import time\n",
    "time.sleep(6)\n",
    "print('hello')"
   ]
  },
  {
   "cell_type": "code",
   "execution_count": 1,
   "id": "915485fc-87e1-411b-adac-54a0edf0df5e",
   "metadata": {},
   "outputs": [
    {
     "data": {
      "text/plain": [
       "['Formatter',\n",
       " 'Template',\n",
       " '_ChainMap',\n",
       " '__all__',\n",
       " '__builtins__',\n",
       " '__cached__',\n",
       " '__doc__',\n",
       " '__file__',\n",
       " '__loader__',\n",
       " '__name__',\n",
       " '__package__',\n",
       " '__spec__',\n",
       " '_re',\n",
       " '_sentinel_dict',\n",
       " '_string',\n",
       " 'ascii_letters',\n",
       " 'ascii_lowercase',\n",
       " 'ascii_uppercase',\n",
       " 'capwords',\n",
       " 'digits',\n",
       " 'hexdigits',\n",
       " 'octdigits',\n",
       " 'printable',\n",
       " 'punctuation',\n",
       " 'whitespace']"
      ]
     },
     "execution_count": 1,
     "metadata": {},
     "output_type": "execute_result"
    }
   ],
   "source": [
    "#string\n",
    "import string\n",
    "dir(string)"
   ]
  },
  {
   "cell_type": "code",
   "execution_count": 1,
   "id": "1ecc2989-8f52-4be0-8d7f-7010762eda55",
   "metadata": {},
   "outputs": [
    {
     "name": "stdout",
     "output_type": "stream",
     "text": [
      "the average of 10,20 and 30 is 20.0\n"
     ]
    }
   ],
   "source": [
    "n1=10\n",
    "n2=20\n",
    "n3=30\n",
    "avg=(n1+n2+n3)/3\n",
    "avg1=round(avg,2)\n",
    "print(f\"the average of {n1},{n2} and {n3} is {avg1}\")"
   ]
  },
  {
   "cell_type": "code",
   "execution_count": 2,
   "id": "3144a595-1e7f-4db9-ac1f-add6e6f2fcc6",
   "metadata": {},
   "outputs": [
    {
     "name": "stdin",
     "output_type": "stream",
     "text": [
      "enter n1 10\n",
      "enter n2 30\n",
      "enter n3 40\n"
     ]
    },
    {
     "name": "stdout",
     "output_type": "stream",
     "text": [
      "the average of 10,30 and 40 is 26.67\n"
     ]
    }
   ],
   "source": [
    "n1=eval(input('enter n1'))\n",
    "n2=eval(input('enter n2'))\n",
    "n3=eval(input('enter n3'))\n",
    "avg=(n1+n2+n3)/3\n",
    "avg1=round(avg,2)\n",
    "print(f\"the average of {n1},{n2} and {n3} is {avg1}\")"
   ]
  },
  {
   "cell_type": "code",
   "execution_count": 3,
   "id": "b68e61f2-a1c4-4266-83ed-487db9c7cb59",
   "metadata": {},
   "outputs": [
    {
     "name": "stdout",
     "output_type": "stream",
     "text": [
      "the average of 72,58 and 69 is 66.33\n"
     ]
    }
   ],
   "source": [
    "import random\n",
    "n1=random.randint(1,100)\n",
    "n2=random.randint(1,100)\n",
    "n3=random.randint(1,100)\n",
    "avg=(n1+n2+n3)/3\n",
    "avg1=round(avg,2)\n",
    "print(f\"the average of {n1},{n2} and {n3} is {avg1}\")"
   ]
  },
  {
   "cell_type": "code",
   "execution_count": 4,
   "id": "7900253e-70d7-41eb-887c-95f29c610eb9",
   "metadata": {},
   "outputs": [
    {
     "name": "stdout",
     "output_type": "stream",
     "text": [
      "the area of the triangle is: 78.0\n"
     ]
    }
   ],
   "source": [
    "# area of triangle\n",
    "import random\n",
    "br=random.randint(2,20)\n",
    "hi=random.randint(3,30)\n",
    "area=0.5*br*hi\n",
    "area1=round(area,2)\n",
    "print(f\"the area of the triangle is: {area1}\")"
   ]
  },
  {
   "cell_type": "code",
   "execution_count": 10,
   "id": "0d8d2ba4-fbf9-40e1-a221-14f716dc543f",
   "metadata": {},
   "outputs": [
    {
     "name": "stdout",
     "output_type": "stream",
     "text": [
      "the area of the circle with radius 15 is: 706.5\n"
     ]
    }
   ],
   "source": [
    "import random\n",
    "r=random.randint(5,50)\n",
    "pi=3.14\n",
    "area=pi*r*r\n",
    "print(f\"the area of the circle with radius {r} is: {area}\")\n"
   ]
  },
  {
   "cell_type": "code",
   "execution_count": 12,
   "id": "713a809a-05d6-4f26-838a-baafc87ec3ae",
   "metadata": {},
   "outputs": [
    {
     "name": "stdout",
     "output_type": "stream",
     "text": [
      "the average of 62,14 and 31 is 35.67\n"
     ]
    }
   ],
   "source": [
    "#from package import a method\n",
    "from random import randint\n",
    "n1=randint(1,100)\n",
    "n2=randint(1,100)\n",
    "n3=randint(1,100)\n",
    "avg=(n1+n2+n3)/3\n",
    "avg1=round(avg,2)\n",
    "print(f\"the average of {n1},{n2} and {n3} is {avg1}\")\n"
   ]
  },
  {
   "cell_type": "markdown",
   "id": "576ad408-b07e-4ea6-a64d-e5ca16aab812",
   "metadata": {},
   "source": [
    "**How to provide the values**\n",
    "\n",
    "- hard coded values\n",
    "- from keyboard using **input**\n",
    "- random values using **random package**"
   ]
  },
  {
   "cell_type": "code",
   "execution_count": 14,
   "id": "ce13e066-d248-4b7c-98ba-8de893cbacd3",
   "metadata": {},
   "outputs": [
    {
     "name": "stdout",
     "output_type": "stream",
     "text": [
      "calculating area\n",
      "rounding off the area\n",
      "the area of the circle is : 113.1\n"
     ]
    }
   ],
   "source": [
    "from random import randint\n",
    "from math import pi,pow\n",
    "import time\n",
    "r=randint(1,100)\n",
    "time.sleep(2)\n",
    "print('calculating area')\n",
    "area=pi*pow(r,2)\n",
    "time.sleep(2)\n",
    "print('rounding off the area')\n",
    "area1=round(area,2)\n",
    "print(f'the area of the circle is : {area1}')"
   ]
  },
  {
   "cell_type": "code",
   "execution_count": 15,
   "id": "b2f1c620-e64c-4b25-a793-05fdc994759c",
   "metadata": {},
   "outputs": [
    {
     "name": "stdout",
     "output_type": "stream",
     "text": [
      "father: hey beta\n",
      "son: hi dad\n",
      "father: i heared your results came out\n",
      "son: yes dad\n",
      "father: thats good....hw much percentage you scored?\n",
      "son: i will tell u the marks you tell me the percentage\n",
      "father: ok sure...!\n"
     ]
    },
    {
     "name": "stdin",
     "output_type": "stream",
     "text": [
      "enter the telugu marks: 10\n",
      "enter the hindi marks: 20\n",
      "enter the eng marks: 30\n",
      "enter the maths marks: 40\n",
      "enter the sci marks: 50\n",
      "enter the soc marks: 60\n"
     ]
    },
    {
     "name": "stdout",
     "output_type": "stream",
     "text": [
      "the average marks is : 35.0\n"
     ]
    }
   ],
   "source": [
    "print(\"father: hey beta\")\n",
    "time.sleep(2)\n",
    "print(\"son: hi dad\")\n",
    "time.sleep(2)\n",
    "print(\"father: i heared your results came out\")\n",
    "time.sleep(2)\n",
    "print(\"son: yes dad\")\n",
    "time.sleep(2)\n",
    "print(\"father: thats good....hw much percentage you scored?\")\n",
    "time.sleep(2)\n",
    "print(\"son: i will tell u the marks you tell me the percentage\")\n",
    "time.sleep(2)\n",
    "print(\"father: ok sure...!\")\n",
    "telugu=eval(input('enter the telugu marks:'))\n",
    "hindi=eval(input('enter the hindi marks:'))\n",
    "eng=eval(input('enter the eng marks:'))\n",
    "maths=eval(input('enter the maths marks:')) \n",
    "sci=eval(input('enter the sci marks:'))\n",
    "soc=eval(input('enter the soc marks:'))\n",
    "avg=(telugu+hindi+eng+maths+sci+soc)/6\n",
    "print(f\"the average marks is : {avg}\")"
   ]
  },
  {
   "cell_type": "code",
   "execution_count": 16,
   "id": "ab0a822e-748a-46f4-91c4-dbfcf9f8ea95",
   "metadata": {},
   "outputs": [],
   "source": [
    "import flask #API"
   ]
  },
  {
   "cell_type": "code",
   "execution_count": 17,
   "id": "b945fc9e-817a-470f-a310-313281edaa88",
   "metadata": {},
   "outputs": [],
   "source": [
    "import streamlit #Application\n"
   ]
  },
  {
   "cell_type": "code",
   "execution_count": 19,
   "id": "d54ba600-f20e-440d-9aef-81bba4740e18",
   "metadata": {},
   "outputs": [
    {
     "ename": "ModuleNotFoundError",
     "evalue": "No module named 'tensorflow'",
     "output_type": "error",
     "traceback": [
      "\u001b[1;31m---------------------------------------------------------------------------\u001b[0m",
      "\u001b[1;31mModuleNotFoundError\u001b[0m                       Traceback (most recent call last)",
      "Cell \u001b[1;32mIn[19], line 1\u001b[0m\n\u001b[1;32m----> 1\u001b[0m \u001b[38;5;28;01mimport\u001b[39;00m \u001b[38;5;21;01mtensorflow\u001b[39;00m\n",
      "\u001b[1;31mModuleNotFoundError\u001b[0m: No module named 'tensorflow'"
     ]
    }
   ],
   "source": [
    "import tensorflow\n",
    "#module not found"
   ]
  },
  {
   "cell_type": "markdown",
   "id": "c4525b55-ef08-4e51-bbe9-ce0386aade7d",
   "metadata": {},
   "source": [
    "- if we want to install the package,we can do 2 ways\n",
    "\n",
    "- using **Anaconda promt**\n",
    " - pip install package_name\n",
    "    \n",
    "- using **Jupyter notebook**\n",
    "    - !pip install packagename\n",
    "\n",
    "- when ever we want to install any package,internet is required\n",
    "\n",
    "- if any problem about internet **http error** will occur\n",
    "\n",
    "- package install name and reading name both are samae\n",
    "\n",
    "- package name\n",
    "\n",
    "- package_name:flask install name:pip install flask\n",
    "\n"
   ]
  },
  {
   "cell_type": "code",
   "execution_count": 20,
   "id": "b381b244-5880-44af-902f-48d33471e207",
   "metadata": {},
   "outputs": [
    {
     "ename": "ModuleNotFoundError",
     "evalue": "No module named 'cv2'",
     "output_type": "error",
     "traceback": [
      "\u001b[1;31m---------------------------------------------------------------------------\u001b[0m",
      "\u001b[1;31mModuleNotFoundError\u001b[0m                       Traceback (most recent call last)",
      "Cell \u001b[1;32mIn[20], line 1\u001b[0m\n\u001b[1;32m----> 1\u001b[0m \u001b[38;5;28;01mimport\u001b[39;00m \u001b[38;5;21;01mcv2\u001b[39;00m\n\u001b[0;32m      2\u001b[0m \u001b[38;5;28mdir\u001b[39m\u001b[38;5;241m.\u001b[39mcv2()\n",
      "\u001b[1;31mModuleNotFoundError\u001b[0m: No module named 'cv2'"
     ]
    }
   ],
   "source": [
    "import cv2\n",
    "dir.cv2()"
   ]
  },
  {
   "cell_type": "code",
   "execution_count": null,
   "id": "6095e811-1295-4f2a-8824-b4a423736602",
   "metadata": {},
   "outputs": [],
   "source": []
  }
 ],
 "metadata": {
  "kernelspec": {
   "display_name": "Python 3 (ipykernel)",
   "language": "python",
   "name": "python3"
  },
  "language_info": {
   "codemirror_mode": {
    "name": "ipython",
    "version": 3
   },
   "file_extension": ".py",
   "mimetype": "text/x-python",
   "name": "python",
   "nbconvert_exporter": "python",
   "pygments_lexer": "ipython3",
   "version": "3.12.7"
  }
 },
 "nbformat": 4,
 "nbformat_minor": 5
}
